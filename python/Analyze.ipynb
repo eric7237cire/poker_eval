{
 "cells": [
  {
   "cell_type": "code",
   "execution_count": 20,
   "id": "5256151a-e689-4d81-a75a-41694a6027ed",
   "metadata": {},
   "outputs": [
    {
     "name": "stdout",
     "output_type": "stream",
     "text": [
      "10000\n",
      "Index(['POSITION', 'PLR_START_PREFLOP', 'PLR_START_FLOP', 'PLR_START_TURN',\n",
      "       'PLR_START_RIVER', 'HND_RNK_PREFLOP', 'HND_RNK_FLOP', 'HND_RNK_TURN',\n",
      "       'HND_RNK_RIVER', 'PLR_BEFORE_HERO_PREFLOP', 'PLR_BEFORE_HERO_FLOP',\n",
      "       'PLR_BEFORE_HERO_TURN', 'PLR_BEFORE_HERO_RIVER', 'POT_START_FLOP',\n",
      "       'POT_START_TURN', 'POT_START_RIVER', 'FINAL_POT', 'HERO_EQ_PREFLOP',\n",
      "       'HERO_EQ_FLOP', 'HERO_EQ_TURN', 'HERO_EQ_RIVER', 'CALL_AMT_PREFLOP',\n",
      "       'CALL_AMT_FLOP', 'CALL_AMT_TURN', 'CALL_AMT_RIVER', 'ACT_PREFLOP',\n",
      "       'ACT_FLOP', 'ACT_TURN', 'ACT_RIVER', 'ACT_AMT_PREFLOP', 'ACT_AMT_FLOP',\n",
      "       'ACT_AMT_TURN', 'ACT_AMT_RIVER', 'IN_SHOWDOWN', 'HERO_HAND',\n",
      "       'BEST_NON_HERO_HAND', 'INIT_STACK', 'FINAL_STACK'],\n",
      "      dtype='object')\n"
     ]
    }
   ],
   "source": [
    "import pandas as pd\n",
    "\n",
    "# Specify the path to your CSV file\n",
    "csv_file_path = 'hand_history.csv'\n",
    "\n",
    "# Read the CSV file into a DataFrame\n",
    "df = pd.read_csv(csv_file_path)\n",
    "\n",
    "# Now, 'df' contains the data from the CSV file in a DataFrame\n",
    "# You can perform various operations on 'df'\n",
    "print(len(df))\n",
    "print(df.columns)"
   ]
  },
  {
   "cell_type": "code",
   "execution_count": 21,
   "id": "f848ee2c-a332-4f45-949c-a1a28a8c37fd",
   "metadata": {},
   "outputs": [
    {
     "data": {
      "image/png": "[encoded data removed]",
      "text/plain": [
       "<Figure size 640x480 with 1 Axes>"
      ]
     },
     "metadata": {},
     "output_type": "display_data"
    }
   ],
   "source": [
    "# Avg win/loss by position -- 0 is SB\n",
    "import matplotlib.pyplot as plt\n",
    "# Calculate the difference\n",
    "df['STACK_DIFF'] = df['FINAL_STACK'] - df['INIT_STACK']\n",
    "\n",
    "# Group by 'POSITION' and calculate mean difference\n",
    "mean_diff = df.groupby('POSITION')['STACK_DIFF'].mean()\n",
    "\n",
    "# Plotting\n",
    "mean_diff.plot(kind='bar')\n",
    "plt.xlabel('Position')\n",
    "plt.ylabel('Average Stack Difference')\n",
    "plt.title('Average Stack Difference by Position')\n",
    "plt.xticks(rotation=0)  # Rotate x-axis labels to show them horizontally\n",
    "plt.show()"
   ]
  },
  {
   "cell_type": "code",
   "execution_count": 22,
   "id": "7a48cfdf-5748-46c8-bbfb-8e94776b349c",
   "metadata": {},
   "outputs": [
    {
     "name": "stdout",
     "output_type": "stream",
     "text": [
      "In showdown: 18.78%\n",
      "Won showdown: 33.12%\n"
     ]
    }
   ],
   "source": [
    "# How many showdowns did we win lose\n",
    "df['STACK_DIFF'] = df['FINAL_STACK'] - df['INIT_STACK']\n",
    "df['WON'] = df['STACK_DIFF'] > 0\n",
    "in_showdown = df[df['IN_SHOWDOWN'] == True]\n",
    "\n",
    "perc = len(in_showdown) / len(df)\n",
    "print(f\"In showdown: {100*perc:.2f}%\")\n",
    "\n",
    "won_showdown = in_showdown[in_showdown['WON'] == True]\n",
    "perc_won = len(won_showdown) / len(in_showdown)\n",
    "print(f\"Won showdown: {100*perc_won:.2f}%\")"
   ]
  },
  {
   "cell_type": "code",
   "execution_count": 34,
   "id": "aca7a604-4851-4fa9-ace5-d3ed1a6e4047",
   "metadata": {},
   "outputs": [
    {
     "name": "stdout",
     "output_type": "stream",
     "text": [
      "Lost as button 125\n",
      "Lost as button 125\n",
      "Original indices of the first 10 rows:\n",
      "Index([430, 542, 552, 637, 676, 718, 777, 797, 878, 1159], dtype='int64')\n",
      "-3.0\n"
     ]
    }
   ],
   "source": [
    "# Find some example hands in position 8\n",
    "\n",
    "lost_as_button = df[ (df['STACK_DIFF'] < -15) & (df['POSITION'] == 8) ]\n",
    "\n",
    "print(f\"Lost as button {len(lost_as_button)}\")\n",
    "\n",
    "# Get the original DataFrame indices for the first 10 rows of the filtered DataFrame\n",
    "first_10_indices = lost_as_button.head(10).index\n",
    "\n",
    "print(f\"Lost as button {len(lost_as_button)}\")\n",
    "print(\"Original indices of the first 10 rows:\")\n",
    "print(first_10_indices)\n",
    "\n",
    "row = df.iloc[8]\n",
    "\n",
    "print(row['STACK_DIFF'])"
   ]
  },
  {
   "cell_type": "code",
   "execution_count": null,
   "id": "689cb035-2b96-42fe-bfb3-2815335ec1eb",
   "metadata": {},
   "outputs": [],
   "source": []
  },
  {
   "cell_type": "code",
   "execution_count": null,
   "id": "f834d34c-fec4-4b0f-85b6-a72ec0ccf897",
   "metadata": {},
   "outputs": [],
   "source": []
  }
 ],
 "metadata": {
  "kernelspec": {
   "display_name": "Python 3 (ipykernel)",
   "language": "python",
   "name": "python3"
  },
  "language_info": {
   "codemirror_mode": {
    "name": "ipython",
    "version": 3
   },
   "file_extension": ".py",
   "mimetype": "text/x-python",
   "name": "python",
   "nbconvert_exporter": "python",
   "pygments_lexer": "ipython3",
   "version": "3.10.12"
  }
 },
 "nbformat": 4,
 "nbformat_minor": 5
}
